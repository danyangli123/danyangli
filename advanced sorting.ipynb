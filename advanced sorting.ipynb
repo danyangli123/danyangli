{
 "cells": [
  {
   "cell_type": "code",
   "execution_count": null,
   "metadata": {},
   "outputs": [],
   "source": [
    "#merge sort; Idea:divide the array recursively until length is  1 ,and merge these length1 sub arrays recursively\n",
    "def merge(lst1, lst2):\n",
    "    new_lst = []\n",
    "    i, j = 0, 0\n",
    "    while i < len(lst1) and j < len(lst2):\n",
    "        if lst1[i] < lst2[j]:\n",
    "            new_lst.append(lst1[i])\n",
    "            i += 1\n",
    "        else:\n",
    "            new_lst.append(lst2[j])\n",
    "            j += 1\n",
    "    new_lst.extend(lst1[i:] if i < len(lst1) else lst2[j:])\n",
    "    return new_lst\n",
    "\n",
    "def merge_sort(array):\n",
    "    if len(array) == 0 or len(array) == 1 :\n",
    "        return array\n",
    "    middle = (len(array)+1)//2       #主要是为了基数长度情况下依旧可以平分，不加1也可\n",
    "    left = merge_sort(array[:middle])\n",
    "    right = merge_sort(array[midlle:])\n",
    "    return merge(left, right)"
   ]
  },
  {
   "cell_type": "code",
   "execution_count": null,
   "metadata": {},
   "outputs": [],
   "source": []
  }
 ],
 "metadata": {
  "kernelspec": {
   "display_name": "Python 3",
   "language": "python",
   "name": "python3"
  },
  "language_info": {
   "codemirror_mode": {
    "name": "ipython",
    "version": 3
   },
   "file_extension": ".py",
   "mimetype": "text/x-python",
   "name": "python",
   "nbconvert_exporter": "python",
   "pygments_lexer": "ipython3",
   "version": "3.7.4"
  }
 },
 "nbformat": 4,
 "nbformat_minor": 2
}
